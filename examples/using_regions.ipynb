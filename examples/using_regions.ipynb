{
 "cells": [
  {
   "cell_type": "markdown",
   "metadata": {
    "collapsed": true
   },
   "source": [
    "# Regions use in existing evaluation scheme\n",
    "Here we will showcase the example where there is an existing evaluation tools that calculates IOU and RMSE for binary and prediction evaluation. The idea is that we do not want to replace the existing methods but supplement its evaluation by using the regions approach."
   ]
  },
  {
   "cell_type": "code",
   "execution_count": null,
   "metadata": {},
   "outputs": [],
   "source": [
    "import importlib\n",
    "from functools import partial\n",
    "from utils import *\n",
    "\n",
    "root_dir = add_root_to_path(2)\n",
    "\n",
    "from sep.inspect.utils import *\n",
    "import sep.inspect.regions as regions_inspect\n",
    "import sep.assessors.regions as regions\n",
    "importlib.reload(regions)\n",
    "import sep._commons.visuals as visuals\n",
    "import imageio"
   ]
  },
  {
   "cell_type": "markdown",
   "metadata": {},
   "source": [
    "## Prepare input data"
   ]
  },
  {
   "cell_type": "code",
   "execution_count": null,
   "metadata": {},
   "outputs": [],
   "source": [
    "import sep.loaders.images\n",
    "data_root = pick_path([root_dir / \"tests\" / \"input\" / \"basics\"])\n",
    "example_data_dir = pick_path([root_dir / \"examples\" / \"using_regions_data\"])\n",
    "dataset = data_root / \"humans\"\n",
    "data_loader = sep.loaders.images.ImagesLoader.from_tree(str(dataset))\n",
    "\n",
    "show(data_loader[0]['image'], data_loader[1]['image'], data_loader[2]['image'])"
   ]
  },
  {
   "cell_type": "markdown",
   "metadata": {},
   "source": [
    "## Load segmentations"
   ]
  },
  {
   "cell_type": "code",
   "execution_count": null,
   "metadata": {},
   "outputs": [],
   "source": [
    "image = data_loader[0]['image']\n",
    "annotation = data_loader[0]['annotation']\n",
    "seg_1_low_res = imageio.imread(example_data_dir / \"human_1_seg_low_res.png\")\n",
    "seg_1_no_hands = imageio.imread(example_data_dir / \"human_1_seg_no_hand.png\")\n",
    "seg_1_no_robust = imageio.imread(example_data_dir / \"human_1_seg_non_robust.png\")\n",
    "show(annotation, seg_1_low_res, seg_1_no_hands, seg_1_no_robust)"
   ]
  },
  {
   "cell_type": "markdown",
   "metadata": {},
   "source": [
    "## Show regions for the datasets"
   ]
  },
  {
   "cell_type": "code",
   "execution_count": null,
   "metadata": {},
   "outputs": [],
   "source": [
    "regioners_standard = regions.set_standard\n",
    "regioners_dict = {str(regioner): regioner.extract_region for regioner in regioners_standard}"
   ]
  },
  {
   "cell_type": "code",
   "execution_count": null,
   "metadata": {},
   "outputs": [],
   "source": [
    "importlib.reload(sep.inspect.regions)\n",
    "from sep.inspect.regions import show_regions_and_fractions\n",
    "def calculate_region_proportionals(data_loader, region):\n",
    "    res = []\n",
    "    for data_sample in data_loader:\n",
    "        res.append(region.area_fractions(data_sample['annotation']))\n",
    "    return res\n",
    "\n",
    "def show_regions_proportions(data_loader, region):\n",
    "    printmd(f\"*{str(region)}*\")\n",
    "    metrics = calculate_region_proportionals(data_loader, region)\n",
    "    plt.plot(list(range(len(metrics))), metrics)\n",
    "    plt.show()"
   ]
  },
  {
   "cell_type": "markdown",
   "metadata": {},
   "source": [
    "### Inspect fraction of the regions"
   ]
  },
  {
   "cell_type": "code",
   "execution_count": null,
   "metadata": {
    "scrolled": false
   },
   "outputs": [],
   "source": [
    "show_regions_proportions(data_loader, regioners_standard[0])\n",
    "show_regions_proportions(data_loader, regioners_standard[1])\n",
    "show_regions_proportions(data_loader, regioners_standard[2])\n",
    "show_regions_proportions(data_loader, regioners_standard[3])\n",
    "show_regions_proportions(data_loader, regioners_standard[4])"
   ]
  },
  {
   "cell_type": "markdown",
   "metadata": {},
   "source": [
    "### Inspect region masks"
   ]
  },
  {
   "cell_type": "code",
   "execution_count": null,
   "metadata": {},
   "outputs": [],
   "source": [
    "show_regions_and_fractions(regioners_standard,data_loader[0]['annotation'])"
   ]
  },
  {
   "cell_type": "code",
   "execution_count": null,
   "metadata": {},
   "outputs": [],
   "source": [
    "show_regions_and_fractions(regioners_standard,data_loader[1]['annotation'])"
   ]
  },
  {
   "cell_type": "code",
   "execution_count": null,
   "metadata": {},
   "outputs": [],
   "source": [
    "show_regions_and_fractions(regioners_standard,data_loader[2]['annotation'])"
   ]
  },
  {
   "cell_type": "markdown",
   "metadata": {},
   "source": [
    "### Inspect using napari viewer\n",
    "Here you can take a look at the regions in napari."
   ]
  },
  {
   "cell_type": "code",
   "execution_count": null,
   "metadata": {},
   "outputs": [],
   "source": [
    "# Using listing.\n",
    "#!python -m sep.examine regions_for_dataset <data_root_path> <listing_file_path>\n",
    "\n",
    "# Based on the already used loader:\n",
    "import sep.examine\n",
    "sep.examine.inspect_regions(data_loader)"
   ]
  },
  {
   "cell_type": "markdown",
   "metadata": {},
   "source": [
    "## Use region to calculate metrics"
   ]
  },
  {
   "cell_type": "code",
   "execution_count": null,
   "metadata": {},
   "outputs": [],
   "source": [
    "from sep.assessors.metricer import Metricer\n",
    "from sep.assessors.metrics import IouMetric, RMSEMetric\n",
    "from sep.assessors.regions import EdgesRegion\n",
    "\n",
    "regioners_standard = regions.set_standard\n",
    "\n",
    "metricer = Metricer()\n",
    "metricer.metrics.append(IouMetric())\n",
    "metricer.metrics.append(RMSEMetric())\n",
    "for region in regioners_standard[1:]:\n",
    "    metricer.regions.append(region)\n",
    "\n",
    "print(\"On entire image and near the edges:\")\n",
    "data_point_eval = metricer.calculate_metrics(seg_1_low_res > 128, annotation)"
   ]
  },
  {
   "cell_type": "code",
   "execution_count": null,
   "metadata": {},
   "outputs": [],
   "source": [
    "from sep.assessors.regions import RegionExpr\n",
    "reg = RegionExpr('~', EdgesRegion(0.02), name=\"Mask robust2\")  # #regioners_standard[3]\n",
    "print(str(reg))\n",
    "seg_region = reg.regionize(ground_truth=annotation, mask=seg_1_low_res > 128)\n",
    "gt_region = reg.regionize(ground_truth=annotation, mask=annotation)\n",
    "region_mask = reg.extract_region(annotation)\n",
    "result = annotation.astype(bool) & region_mask\n",
    "\n",
    "print(IouMetric().calculate(seg_1_low_res > 128, annotation))\n",
    "print(IouMetric().calculate(seg_region, gt_region))\n",
    "show(image, seg_region, gt_region, region_mask, result)"
   ]
  },
  {
   "cell_type": "code",
   "execution_count": null,
   "metadata": {},
   "outputs": [],
   "source": [
    "show(image, annotation, seg_1_low_res)"
   ]
  },
  {
   "cell_type": "code",
   "execution_count": null,
   "metadata": {},
   "outputs": [],
   "source": [
    "regioners_standard[1].regionize(annotation, seg_1_low_res)"
   ]
  },
  {
   "cell_type": "code",
   "execution_count": null,
   "metadata": {},
   "outputs": [],
   "source": [
    "seg_1_low_res.dtype, annotation.dtype"
   ]
  },
  {
   "cell_type": "code",
   "execution_count": null,
   "metadata": {},
   "outputs": [],
   "source": [
    "np.unique(seg_1_low_res), np.unique(annotation)"
   ]
  },
  {
   "cell_type": "code",
   "execution_count": null,
   "metadata": {},
   "outputs": [],
   "source": [
    "data_point_eval"
   ]
  },
  {
   "cell_type": "code",
   "execution_count": null,
   "metadata": {},
   "outputs": [],
   "source": []
  }
 ],
 "metadata": {
  "kernelspec": {
   "display_name": "Python 3",
   "language": "python",
   "name": "python3"
  },
  "language_info": {
   "codemirror_mode": {
    "name": "ipython",
    "version": 3
   },
   "file_extension": ".py",
   "mimetype": "text/x-python",
   "name": "python",
   "nbconvert_exporter": "python",
   "pygments_lexer": "ipython3",
   "version": "3.7.10"
  },
  "toc": {
   "base_numbering": 1,
   "nav_menu": {},
   "number_sections": false,
   "sideBar": true,
   "skip_h1_title": true,
   "title_cell": "Table of Contents",
   "title_sidebar": "Contents",
   "toc_cell": false,
   "toc_position": {},
   "toc_section_display": true,
   "toc_window_display": true
  }
 },
 "nbformat": 4,
 "nbformat_minor": 1
}
